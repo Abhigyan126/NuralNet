{
  "nbformat": 4,
  "nbformat_minor": 0,
  "metadata": {
    "colab": {
      "provenance": [],
      "mount_file_id": "1QRUKqwTZU-cOR81Onh2Ujs8mzbe6uoP0",
      "authorship_tag": "ABX9TyODGIji1M9nG9l8v0lj92VP",
      "include_colab_link": true
    },
    "kernelspec": {
      "name": "python3",
      "display_name": "Python 3"
    },
    "language_info": {
      "name": "python"
    }
  },
  "cells": [
    {
      "cell_type": "markdown",
      "metadata": {
        "id": "view-in-github",
        "colab_type": "text"
      },
      "source": [
        "<a href=\"https://colab.research.google.com/github/Abhigyan126/NuralNet/blob/main/cnn%20scratch.ipynb\" target=\"_parent\"><img src=\"https://colab.research.google.com/assets/colab-badge.svg\" alt=\"Open In Colab\"/></a>"
      ]
    },
    {
      "cell_type": "code",
      "source": [
        "import numpy as np\n"
      ],
      "metadata": {
        "id": "CrVZJt4wdP3x"
      },
      "execution_count": 5,
      "outputs": []
    },
    {
      "cell_type": "code",
      "execution_count": 6,
      "metadata": {
        "id": "Zl86DKqsbyyi"
      },
      "outputs": [],
      "source": [
        "# Load Fashion MNIST dataset\n",
        "def load_data():\n",
        "    with open('/content/drive/MyDrive/deep learning lab/archive (1)/train-images-idx3-ubyte', 'rb') as f:\n",
        "        train_images = np.frombuffer(f.read(), dtype=np.uint8, offset=16).reshape(-1, 28, 28)\n",
        "    with open('/content/drive/MyDrive/deep learning lab/archive (1)/train-labels-idx1-ubyte', 'rb') as f:\n",
        "        train_labels = np.frombuffer(f.read(), dtype=np.uint8, offset=8)\n",
        "    with open('/content/drive/MyDrive/deep learning lab/archive (1)/t10k-images-idx3-ubyte', 'rb') as f:\n",
        "        test_images = np.frombuffer(f.read(), dtype=np.uint8, offset=16).reshape(-1, 28, 28)\n",
        "    with open('/content/drive/MyDrive/deep learning lab/archive (1)/t10k-labels-idx1-ubyte', 'rb') as f:\n",
        "        test_labels = np.frombuffer(f.read(), dtype=np.uint8, offset=8)\n",
        "    return train_images, train_labels, test_images, test_labels"
      ]
    },
    {
      "cell_type": "code",
      "source": [
        "# Normalize pixel values to range [0, 1]\n",
        "def normalize(images):\n",
        "    return images / 255.0"
      ],
      "metadata": {
        "id": "pLHLfqj1dsH5"
      },
      "execution_count": 7,
      "outputs": []
    },
    {
      "cell_type": "code",
      "source": [
        "# Split dataset into training, validation, and test sets\n",
        "def split_data(images, labels, validation_split=0.2):\n",
        "    num_samples = len(images)\n",
        "    num_validation = int(num_samples * validation_split)\n",
        "    validation_images = images[:num_validation]\n",
        "    validation_labels = labels[:num_validation]\n",
        "    train_images = images[num_validation:]\n",
        "    train_labels = labels[num_validation:]\n",
        "    return train_images, train_labels, validation_images, validation_labels"
      ],
      "metadata": {
        "id": "1L77Ev-Qdt9g"
      },
      "execution_count": 8,
      "outputs": []
    },
    {
      "cell_type": "code",
      "source": [
        "# Load data\n",
        "train_images, train_labels, test_images, test_labels = load_data()"
      ],
      "metadata": {
        "id": "lCDLXRCfdt6q"
      },
      "execution_count": 9,
      "outputs": []
    },
    {
      "cell_type": "code",
      "source": [
        "# Normalize pixel values\n",
        "train_images = normalize(train_images)\n",
        "test_images = normalize(test_images)"
      ],
      "metadata": {
        "id": "E3KSRVP0dt4Y"
      },
      "execution_count": 10,
      "outputs": []
    },
    {
      "cell_type": "code",
      "source": [
        "# Split dataset into training and validation sets\n",
        "train_images, train_labels, val_images, val_labels = split_data(train_images, train_labels)\n",
        "\n",
        "print(\"Training images shape:\", train_images.shape)\n",
        "print(\"Validation images shape:\", val_images.shape)\n",
        "print(\"Test images shape:\", test_images.shape)\n",
        "print(\"Training labels shape:\", train_labels.shape)\n",
        "print(\"Validation labels shape:\", val_labels.shape)\n",
        "print(\"Test labels shape:\", test_labels.shape)"
      ],
      "metadata": {
        "colab": {
          "base_uri": "https://localhost:8080/"
        },
        "id": "itGncMVmdzAc",
        "outputId": "2e31a9e8-19bc-4b00-f5ab-c9401b7817f0"
      },
      "execution_count": 11,
      "outputs": [
        {
          "output_type": "stream",
          "name": "stdout",
          "text": [
            "Training images shape: (48000, 28, 28)\n",
            "Validation images shape: (12000, 28, 28)\n",
            "Test images shape: (10000, 28, 28)\n",
            "Training labels shape: (48000,)\n",
            "Validation labels shape: (12000,)\n",
            "Test labels shape: (10000,)\n"
          ]
        }
      ]
    }
  ]
}